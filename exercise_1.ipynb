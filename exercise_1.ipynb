{
  "cells": [
    {
      "cell_type": "code",
      "execution_count": null,
      "id": "2c450910",
      "metadata": {
        "id": "2c450910",
        "outputId": "72a2c8d7-69a8-4c7c-f13d-1484fce307f4"
      },
      "outputs": [
        {
          "name": "stdout",
          "output_type": "stream",
          "text": [
            "baba\n",
            "75\n",
            "7.1\n"
          ]
        }
      ],
      "source": [
        "# Types of variables\n",
        "name=\"baba\"\n",
        "marks=75\n",
        "cgpa=7.1\n",
        "print(name)\n",
        "print(marks)\n",
        "print(cgpa)"
      ]
    },
    {
      "cell_type": "code",
      "execution_count": null,
      "id": "d51efc99",
      "metadata": {
        "id": "d51efc99",
        "outputId": "73ac76b4-2dab-40e0-8cc0-2d908812f113"
      },
      "outputs": [
        {
          "name": "stdout",
          "output_type": "stream",
          "text": [
            "enter the num4\n",
            "enter the num6\n",
            "24\n"
          ]
        }
      ],
      "source": [
        "\n",
        "def far(b,r):\n",
        "    a=b*r\n",
        "    return a\n",
        "x=int(input(\"enter the num\"))\n",
        "y=int(input(\"enter the num\"))\n",
        "e=far(x,y)\n",
        "print(e)\n",
        "\n",
        "\n"
      ]
    },
    {
      "cell_type": "code",
      "execution_count": null,
      "id": "3df5e09a",
      "metadata": {
        "id": "3df5e09a",
        "outputId": "9378f10f-d486-48b1-f16c-1f36dd00001e"
      },
      "outputs": [
        {
          "name": "stdout",
          "output_type": "stream",
          "text": [
            "1\n",
            "True\n"
          ]
        }
      ],
      "source": [
        "print(5%2)\n",
        "a=20\n",
        "b=5\n",
        "print(a!=b)"
      ]
    },
    {
      "cell_type": "code",
      "execution_count": null,
      "id": "6185e7b7",
      "metadata": {
        "id": "6185e7b7",
        "outputId": "129728fe-bf39-4aa4-e496-672c9544503b"
      },
      "outputs": [
        {
          "name": "stdout",
          "output_type": "stream",
          "text": [
            "apple elderberry\n",
            "['apple', 'banana', 'cherry', 'date', 'elderberry', 'orange']\n",
            "['apple', 'cherry', 'date', 'elderberry', 'orange']\n",
            "['apple', 'cherry', 'date', 'elderberry', 'orange']\n"
          ]
        }
      ],
      "source": [
        "#Lists\n",
        "fruits=([\"apple\",\"banana\",\"cherry\",\"date\",\"elderberry\"])\n",
        "print(fruits[0],fruits[4])\n",
        "fruits.append(\"orange\")\n",
        "print(fruits)\n",
        "fruits.pop(1)\n",
        "print(fruits)\n",
        "fruits.sort()\n",
        "print(fruits)"
      ]
    },
    {
      "cell_type": "code",
      "execution_count": null,
      "id": "fc1ba22e",
      "metadata": {
        "id": "fc1ba22e",
        "outputId": "4dfa273a-e0c0-421d-b0bb-5c2d6a5168c5"
      },
      "outputs": [
        {
          "name": "stdout",
          "output_type": "stream",
          "text": [
            "java\n",
            "['python', 'java', 'c++']\n",
            "['python', 'javascript', 'c++']\n",
            "('python', 'javascript', 'c++')\n"
          ]
        }
      ],
      "source": [
        "#tuples\n",
        "lang=(\"python\",\"java\",\"c++\")\n",
        "print(lang[1])\n",
        "lang1=list(lang)\n",
        "print(lang1)\n",
        "lang1[1]=\"javascript\"\n",
        "print(lang1)\n",
        "lang2=tuple(lang1)\n",
        "print(lang2)"
      ]
    },
    {
      "cell_type": "code",
      "execution_count": null,
      "id": "f3aba9ca",
      "metadata": {
        "id": "f3aba9ca",
        "outputId": "79fc3017-2121-4a6f-d09f-fcb9ea931a1b"
      },
      "outputs": [
        {
          "name": "stdout",
          "output_type": "stream",
          "text": [
            "A\n",
            "{'name': 'jhon', 'age': 18, 'grade': 'A', 'hobby': 'reading'}\n",
            "{'name': 'jhon', 'grade': 'A', 'hobby': 'reading'}\n"
          ]
        }
      ],
      "source": [
        "#data dictionary-basis\n",
        "student={\"name\":\"jhon\",\"age\":18,\"grade\":\"A\"}\n",
        "print(student[\"grade\"])\n",
        "student[\"hobby\"]=\"reading\"\n",
        "print(student)\n",
        "del student[\"age\"]\n",
        "print(student)"
      ]
    },
    {
      "cell_type": "code",
      "execution_count": null,
      "id": "32c30c2d",
      "metadata": {
        "id": "32c30c2d",
        "outputId": "f1bba0da-1cfc-41d6-bd37-145ca0fe8924"
      },
      "outputs": [
        {
          "name": "stdout",
          "output_type": "stream",
          "text": [
            "[85, 90, 78]\n",
            "84.33333333333333\n",
            "{'math': 88, 'science': 90, 'english': 78}\n",
            "False\n"
          ]
        }
      ],
      "source": [
        "#data dictionary-opertions\n",
        "marks={\"math\":85,\"science\":90,\"english\":78}\n",
        "a=list(marks.values())\n",
        "print(a)\n",
        "b=0\n",
        "for i in range(0,3):\n",
        "    b=b+a[i]\n",
        "    c=b/3\n",
        "print(c)\n",
        "marks[\"math\"]=88\n",
        "print(marks)\n",
        "print(\"histroy\" in marks)"
      ]
    },
    {
      "cell_type": "code",
      "execution_count": null,
      "id": "8c785ce7",
      "metadata": {
        "id": "8c785ce7",
        "outputId": "2a093ec8-e392-4323-adb8-e103398d7d5a"
      },
      "outputs": [
        {
          "name": "stdout",
          "output_type": "stream",
          "text": [
            "enter the square values7\n",
            "49\n"
          ]
        }
      ],
      "source": [
        "#funtions basics\n",
        "def square(a):\n",
        "    fun=a*a\n",
        "    return fun\n",
        "x=int(input(\"enter the square values\"))\n",
        "dod=(square(x))\n",
        "print(dod)\n"
      ]
    },
    {
      "cell_type": "code",
      "execution_count": null,
      "id": "577b6f37",
      "metadata": {
        "id": "577b6f37",
        "outputId": "3b5fa623-1c79-4976-df28-8e9b5ad7a93c"
      },
      "outputs": [
        {
          "name": "stdout",
          "output_type": "stream",
          "text": [
            "enter the name:baba\n",
            "enter the message:hello\n",
            "baba hello\n",
            "baba welcome\n"
          ]
        }
      ],
      "source": [
        "#funtions-default arguemts\n",
        "def greet (name,message=\"welcome\"):\n",
        "    san=name+\" \"+message\n",
        "    return san\n",
        "x=input(\"enter the name:\")\n",
        "y=input(\"enter the message:\")\n",
        "gen=greet(x,y)\n",
        "gen1=greet(x)\n",
        "print(gen)\n",
        "print(gen1)"
      ]
    },
    {
      "cell_type": "markdown",
      "id": "3623121f",
      "metadata": {
        "id": "3623121f"
      },
      "source": [
        "           "
      ]
    },
    {
      "cell_type": "code",
      "execution_count": null,
      "id": "22753365",
      "metadata": {
        "id": "22753365",
        "outputId": "e789a186-0489-4277-bed3-691d25fb6699"
      },
      "outputs": [
        {
          "name": "stdout",
          "output_type": "stream",
          "text": [
            "positional arguments ('baba', 22, 'B')\n",
            "keyword arguments ('baba', 21, 'C')\n"
          ]
        }
      ],
      "source": [
        "def stud_info(name,age,grade=\"A\"):\n",
        "    return name,age,grade\n",
        "print(\"positional arguments\",stud_info(\"baba\",22,\"B\"))\n",
        "print(\"keyword arguments\",stud_info(grade=\"C\",age=21,name=\"baba\"))"
      ]
    },
    {
      "cell_type": "code",
      "execution_count": null,
      "id": "806d3876",
      "metadata": {
        "id": "806d3876",
        "outputId": "1bf69d90-acaf-4221-b813-92dcd0417b8f"
      },
      "outputs": [
        {
          "name": "stdout",
          "output_type": "stream",
          "text": [
            "[20, 40, 60, 80, 100]\n"
          ]
        }
      ],
      "source": [
        "quest=[10,20,30,40,50]\n",
        "def double_values(a):\n",
        "    quest1=[]\n",
        "    i=0\n",
        "    for i in range(0,5):\n",
        "        quest1.append(a[i]*2)\n",
        "    return quest1\n",
        "print(double_values(quest))"
      ]
    },
    {
      "cell_type": "code",
      "execution_count": null,
      "id": "91292886",
      "metadata": {
        "id": "91292886",
        "outputId": "0e0b1811-2ea9-461f-c2e4-dab54a57b6ee"
      },
      "outputs": [
        {
          "name": "stdout",
          "output_type": "stream",
          "text": [
            "0\n",
            "1\n",
            "2\n",
            "3\n",
            "4\n",
            "5\n",
            "6\n",
            "7\n",
            "8\n",
            "9\n"
          ]
        }
      ],
      "source": [
        "for i in range(0,10):\n",
        "print(i)\n",
        "\n"
      ]
    },
    {
      "cell_type": "code",
      "execution_count": null,
      "id": "22f2cf8a",
      "metadata": {
        "id": "22f2cf8a",
        "outputId": "fa1f6895-7fe1-4bc1-fcbe-00de98b91479"
      },
      "outputs": [
        {
          "name": "stdout",
          "output_type": "stream",
          "text": [
            "enter the name : baba\n",
            "enter the grade : 100\n",
            "{'alice': 85, 'bob': 78, 'eve': 92, 'baba': 100}\n"
          ]
        }
      ],
      "source": [
        "students={\"alice\":85,\"bob\":78,\"eve\":92}\n",
        "def add_students(std,name,grade):\n",
        "    std[name]=grade\n",
        "    return std\n",
        "def average_grade(std):\n",
        "    sum=0\n",
        "\n",
        "name=input(\"enter the name : \")\n",
        "grade=int(input(\"enter the grade : \"))\n",
        "print(add_students(students,name,grade))\n",
        "\n"
      ]
    }
  ],
  "metadata": {
    "kernelspec": {
      "display_name": "Python 3 (ipykernel)",
      "language": "python",
      "name": "python3"
    },
    "language_info": {
      "codemirror_mode": {
        "name": "ipython",
        "version": 3
      },
      "file_extension": ".py",
      "mimetype": "text/x-python",
      "name": "python",
      "nbconvert_exporter": "python",
      "pygments_lexer": "ipython3",
      "version": "3.11.5"
    },
    "colab": {
      "provenance": []
    }
  },
  "nbformat": 4,
  "nbformat_minor": 5
}