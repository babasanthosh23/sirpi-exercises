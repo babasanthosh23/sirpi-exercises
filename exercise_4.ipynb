{
  "cells": [
    {
      "cell_type": "markdown",
      "id": "52a4cadb",
      "metadata": {
        "id": "52a4cadb"
      },
      "source": [
        "Case Study: Library Management System\n",
        "Scenario:\n",
        "You are designing a Library Management System that allows users to borrow and return books. The system should support different types of users (Students, Professors) and different types of books (Physical books, E-books). The system should also ensure data security by preventing unauthorized access to certain attributes.\n",
        "Requirements:\n",
        "1.\tImplement a Book class with details like title, author, isbn, and availability_status.\n",
        "2.\tImplement a User class that holds name and user_type (either \"Student\" or \"Professor\").\n",
        "3.\tUse Inheritance to create specialized user types (Student, Professor) with different borrowing limits.\n",
        "4.\tUse Encapsulation to ensure that certain data (like the number of copies available) is not modified directly.\n",
        "5.\tUse Polymorphism to allow different types of books (e.g., PhysicalBook and EBook) to implement a common method for checking availability.\n",
        "6.\tUse Abstraction to define a common structure for Book that must be implemented by all book types.\n",
        "\n",
        "Questions:\n",
        "1. Encapsulation\n",
        "•\tWhy is __copies defined as a private attribute in PhysicalBook?\n",
        "•\tHow can we modify __copies safely without directly accessing it?\n",
        "2. Inheritance\n",
        "•\tWhat is the purpose of Student and Professor classes inheriting from User?\n",
        "•\tIf a new type of user (e.g., Librarian) needs to be added, how can it be done?\n",
        "3. Polymorphism\n",
        "•\tBoth PhysicalBook and EBook implement check_availability(). How does this demonstrate polymorphism?\n",
        "•\tModify the program so that EBook also has a borrow method, but does not reduce copies when borrowed.\n",
        "4. Abstraction\n",
        "•\tWhy do we declare Book as an abstract class instead of using it directly?\n",
        "•\tWhat will happen if we try to create an object of Book?\n",
        "\n",
        "5. Real-World Application\n",
        "•\tHow would you extend this program to track borrowed books per user?\n",
        "•\tIf books have different borrowing durations (e.g., E-books for 14 days, Physical books for 30 days), how would you implement that?\n",
        "\n",
        "Bonus Task: Extend the Case Study\n",
        "•\tImplement a Librarian class who can add new books to the system.\n",
        "•\tImplement a Book Catalog that stores multiple books and allows users to search for a book by title or author.\n",
        "\n",
        "\n"
      ]
    },
    {
      "cell_type": "code",
      "execution_count": null,
      "id": "b77c479c",
      "metadata": {
        "id": "b77c479c"
      },
      "outputs": [],
      "source": []
    }
  ],
  "metadata": {
    "kernelspec": {
      "display_name": "Python 3 (ipykernel)",
      "language": "python",
      "name": "python3"
    },
    "language_info": {
      "codemirror_mode": {
        "name": "ipython",
        "version": 3
      },
      "file_extension": ".py",
      "mimetype": "text/x-python",
      "name": "python",
      "nbconvert_exporter": "python",
      "pygments_lexer": "ipython3",
      "version": "3.11.5"
    },
    "colab": {
      "provenance": []
    }
  },
  "nbformat": 4,
  "nbformat_minor": 5
}