{
  "cells": [
    {
      "cell_type": "code",
      "execution_count": null,
      "id": "6b7eb32d",
      "metadata": {
        "colab": {
          "base_uri": "https://localhost:8080/"
        },
        "id": "6b7eb32d",
        "outputId": "44b32f14-ce93-4918-eeff-3c3cec5a2ed9"
      },
      "outputs": [
        {
          "output_type": "stream",
          "name": "stdout",
          "text": [
            "10 5\n"
          ]
        }
      ],
      "source": [
        "# variable and datatypes\n",
        "a = 5\n",
        "b = 10\n",
        "a, b = b, a\n",
        "print(a, b)"
      ]
    },
    {
      "cell_type": "code",
      "execution_count": null,
      "id": "64b54887",
      "metadata": {
        "id": "64b54887",
        "outputId": "9d093f8e-c703-423a-a526-6d743ea803eb"
      },
      "outputs": [
        {
          "name": "stdout",
          "output_type": "stream",
          "text": [
            "5\n",
            "[1, 2, 3, 4, 5, 6, 7, 8, 9]\n"
          ]
        }
      ],
      "source": [
        "#Lists - Nested Lists\n",
        "\n",
        "data = [[1, 2, 3], [4, 5, 6], [7, 8, 9]]\n",
        "print(data[1][1])\n",
        "\n",
        "flat_list = sum(data, [])\n",
        "print(flat_list)"
      ]
    },
    {
      "cell_type": "code",
      "execution_count": null,
      "id": "64ab3b8f",
      "metadata": {
        "id": "64ab3b8f",
        "colab": {
          "base_uri": "https://localhost:8080/"
        },
        "outputId": "8d11666f-20da-47d9-fd95-18c9a09532c8"
      },
      "outputs": [
        {
          "output_type": "stream",
          "name": "stdout",
          "text": [
            "7\n"
          ]
        }
      ],
      "source": [
        "#Dictionary - Complex Keys\n",
        "\n",
        "coordinates = {(1, 2): 3, (3, 4): 7, (5, 6): 11}\n",
        "\n",
        "def get_sum(coord_dict, x, y):\n",
        "    return coord_dict.get((x, y))\n",
        "print(get_sum(coordinates, 3, 4))"
      ]
    },
    {
      "cell_type": "code",
      "execution_count": null,
      "id": "d6d97d1b",
      "metadata": {
        "id": "d6d97d1b",
        "outputId": "6828af1e-06ec-4b28-fa4b-f8dcb2e0e800"
      },
      "outputs": [
        {
          "name": "stdout",
          "output_type": "stream",
          "text": [
            "25\n"
          ]
        }
      ],
      "source": [
        "#Functions - Nested Functions\n",
        "\n",
        "def outer_function(a, b):\n",
        "    def inner_function(x, y):\n",
        "        return x**2 + y**2\n",
        "    return inner_function(a, b)\n",
        "print(outer_function(3, 4))\n"
      ]
    },
    {
      "cell_type": "code",
      "execution_count": null,
      "id": "3d0f2864",
      "metadata": {
        "id": "3d0f2864",
        "outputId": "d9042156-ae26-465e-a0ce-d133e5995fbb"
      },
      "outputs": [
        {
          "name": "stdout",
          "output_type": "stream",
          "text": [
            "[1, 8, 27, 64, 125]\n"
          ]
        }
      ],
      "source": [
        "#Functions - Lambda & Map\n",
        "\n",
        "numbers = [1, 2, 3, 4, 5]\n",
        "cubed_numbers = list(map(lambda x: x**3, numbers))\n",
        "print(cubed_numbers)\n",
        "\n"
      ]
    },
    {
      "cell_type": "code",
      "execution_count": null,
      "id": "baad4a7f",
      "metadata": {
        "id": "baad4a7f",
        "outputId": "9c4fa316-2330-4b26-baf4-6c08f30e9b4f",
        "colab": {
          "base_uri": "https://localhost:8080/"
        }
      },
      "outputs": [
        {
          "output_type": "stream",
          "name": "stdout",
          "text": [
            "10\n"
          ]
        }
      ],
      "source": [
        "#Functions - Recursion\n",
        "\n",
        "def sum_of_digits(n):\n",
        "    if n == 0:\n",
        "        return 0\n",
        "    return n % 10 + sum_of_digits(n // 10)\n",
        "print(sum_of_digits(1234))"
      ]
    },
    {
      "cell_type": "code",
      "execution_count": null,
      "id": "61a5bd95",
      "metadata": {
        "id": "61a5bd95",
        "outputId": "f8c819ed-75b4-4f3b-b560-1e6d75219e0e"
      },
      "outputs": [
        {
          "name": "stdout",
          "output_type": "stream",
          "text": [
            "[5, 10, 20, 25, 35, 40, 50, 55, 65, 70, 80, 85, 95, 100]\n"
          ]
        }
      ],
      "source": [
        "#List Comprehensions\n",
        "\n",
        "numbers = [x for x in range(1, 101) if x % 5 == 0 and x % 3 != 0]\n",
        "print(numbers)"
      ]
    },
    {
      "cell_type": "code",
      "execution_count": null,
      "id": "30776645",
      "metadata": {
        "id": "30776645",
        "outputId": "2394cc9a-3622-448f-aba2-b5756f53f514"
      },
      "outputs": [
        {
          "name": "stdout",
          "output_type": "stream",
          "text": [
            "{'Eve': 92, 'Alice': 90, 'Bob': 85}\n"
          ]
        }
      ],
      "source": [
        "#Dictionary - Sorting by Values######\n",
        "\n",
        "scores = {\"Alice\": 90, \"Bob\": 85, \"Eve\": 92}\n",
        "sorted_scores = dict(sorted(scores.items(), key=lambda x: x[1], reverse=True))\n",
        "print(sorted_scores)"
      ]
    },
    {
      "cell_type": "code",
      "execution_count": null,
      "id": "7c873ed3",
      "metadata": {
        "id": "7c873ed3",
        "outputId": "c8bdd78b-786a-4c54-b4c5-284b4ecb7b64"
      },
      "outputs": [
        {
          "name": "stdout",
          "output_type": "stream",
          "text": [
            "({'o', 'e', 'l', 'h'}, 4)\n"
          ]
        }
      ],
      "source": [
        "#Sets - Unique Characters\n",
        "\n",
        "def unique_chars(s):\n",
        "    unique_set = set(s)\n",
        "    return unique_set, len(unique_set)\n",
        "print(unique_chars(\"hello\"))\n"
      ]
    },
    {
      "cell_type": "code",
      "execution_count": null,
      "id": "fa1416e2",
      "metadata": {
        "id": "fa1416e2",
        "outputId": "f9f774bc-4848-4ae4-ecf3-6d6a66b57d09"
      },
      "outputs": [
        {
          "name": "stdout",
          "output_type": "stream",
          "text": [
            "{4, 5}\n"
          ]
        }
      ],
      "source": [
        "#Tuples - Finding Common Elements\n",
        "\n",
        "t1 = (1, 2, 3, 4, 5)\n",
        "t2 = (4, 5, 6, 7, 8)\n",
        "common_elements = set(t1) & set(t2)\n",
        "print(common_elements)\n"
      ]
    },
    {
      "cell_type": "code",
      "execution_count": null,
      "id": "c4eab53e",
      "metadata": {
        "id": "c4eab53e",
        "outputId": "5b6ffb79-b1c5-4050-8f29-07f49981847c"
      },
      "outputs": [
        {
          "name": "stdout",
          "output_type": "stream",
          "text": [
            "{1: 'A', 2: 'B', 3: 'C'}\n"
          ]
        }
      ],
      "source": [
        "#Dictionary - Reverse Key-Value Mapping\n",
        "\n",
        "data = {\"A\": 1, \"B\": 2, \"C\": 3}\n",
        "reversed_data = {v: k for k, v in data.items()}\n",
        "print(reversed_data)\n"
      ]
    },
    {
      "cell_type": "code",
      "execution_count": null,
      "id": "c4bf84ed",
      "metadata": {
        "id": "c4bf84ed",
        "outputId": "0fdb0eec-a062-4766-cb7f-ae46584b5172"
      },
      "outputs": [
        {
          "name": "stdout",
          "output_type": "stream",
          "text": [
            "(12, 8, 20, 5.0)\n"
          ]
        }
      ],
      "source": [
        "\n",
        "#Functions - Multiple Return Values\n",
        "\n",
        "def math_operations(a, b):\n",
        "    return a+b, a-b, a*b, a/b\n",
        "print(math_operations(10, 2))\n",
        "\n"
      ]
    },
    {
      "cell_type": "code",
      "execution_count": null,
      "id": "80d9e583",
      "metadata": {
        "id": "80d9e583",
        "outputId": "dd5e329a-0fe2-4f4f-c705-f4d72632f4c4"
      },
      "outputs": [
        {
          "name": "stdout",
          "output_type": "stream",
          "text": [
            "45\n"
          ]
        }
      ],
      "source": [
        "#List - Finding Second Largest Number\n",
        "\n",
        "def second_largest(lst):\n",
        "    first = second = float('-inf')\n",
        "    for num in lst:\n",
        "        if num > first:\n",
        "            second, first = first, num\n",
        "        elif num > second and num != first:\n",
        "            second = num\n",
        "    return second\n",
        "print(second_largest([10, 20, 4, 45, 99]))\n"
      ]
    },
    {
      "cell_type": "code",
      "execution_count": null,
      "id": "23dab421",
      "metadata": {
        "id": "23dab421",
        "outputId": "2ee10738-3929-4087-f811-084afc123525",
        "colab": {
          "base_uri": "https://localhost:8080/"
        }
      },
      "outputs": [
        {
          "output_type": "stream",
          "name": "stdout",
          "text": [
            "[(3, 7), (1, 9)]\n"
          ]
        }
      ],
      "source": [
        "\n",
        "#List - Pair Sum Problem\n",
        "\n",
        "def find_pairs(lst, target):\n",
        "    pairs = []\n",
        "    for i in range(len(lst)):\n",
        "        for j in range(i + 1, len(lst)):\n",
        "            if lst[i] + lst[j] == target:\n",
        "                pairs.append((lst[i], lst[j]))\n",
        "    return pairs\n",
        "print(find_pairs([2, 4, 3, 7, 1, 9], 10))"
      ]
    },
    {
      "cell_type": "code",
      "source": [
        "#Pandas - Filtering DataFrame\n",
        "import pandas as pd\n",
        "df = pd.DataFrame({\n",
        "    \"Name\": [\"Alice\", \"Bob\", \"Charlie\", \"David\"],\n",
        "    \"Age\": [24, 27, 22, 32],\n",
        "    \"Score\": [85, 90, 78, 88]\n",
        "})\n",
        "print(df[df['Age'] > 25])"
      ],
      "metadata": {
        "colab": {
          "base_uri": "https://localhost:8080/"
        },
        "id": "yqTw2R9hgbA9",
        "outputId": "9f36566c-0dd1-4bc7-8178-0b3bdafc900b"
      },
      "id": "yqTw2R9hgbA9",
      "execution_count": null,
      "outputs": [
        {
          "output_type": "stream",
          "name": "stdout",
          "text": [
            "    Name  Age  Score\n",
            "1    Bob   27     90\n",
            "3  David   32     88\n"
          ]
        }
      ]
    },
    {
      "cell_type": "code",
      "source": [
        "# Pandas - Group By Operation\n",
        "df = pd.DataFrame({\n",
        "    \"Department\": [\"IT\", \"HR\", \"IT\", \"Finance\", \"HR\"],\n",
        "    \"Salary\": [70000, 50000, 80000, 60000, 52000]\n",
        "})\n",
        "avg=df.groupby('Department')['Salary'].mean()\n",
        "print(avg)"
      ],
      "metadata": {
        "colab": {
          "base_uri": "https://localhost:8080/"
        },
        "id": "ipTqYR0ehNDr",
        "outputId": "7b1a2cca-bd0c-4cd9-b0f6-af3677c4eed5"
      },
      "id": "ipTqYR0ehNDr",
      "execution_count": null,
      "outputs": [
        {
          "output_type": "stream",
          "name": "stdout",
          "text": [
            "Department\n",
            "Finance    60000.0\n",
            "HR         51000.0\n",
            "IT         75000.0\n",
            "Name: Salary, dtype: float64\n"
          ]
        }
      ]
    },
    {
      "cell_type": "code",
      "source": [
        "#NumPy - Create a 5x5 Matrix\n",
        "import numpy as np\n",
        "matrix = np.identity((5),dtype=int)\n",
        "print(matrix)"
      ],
      "metadata": {
        "colab": {
          "base_uri": "https://localhost:8080/"
        },
        "id": "N24hjZ36h9Vw",
        "outputId": "15df103a-fe2c-46fd-b109-a82d6c74518f"
      },
      "id": "N24hjZ36h9Vw",
      "execution_count": null,
      "outputs": [
        {
          "output_type": "stream",
          "name": "stdout",
          "text": [
            "[[1 0 0 0 0]\n",
            " [0 1 0 0 0]\n",
            " [0 0 1 0 0]\n",
            " [0 0 0 1 0]\n",
            " [0 0 0 0 1]]\n"
          ]
        }
      ]
    },
    {
      "cell_type": "code",
      "source": [
        "#NumPy - Element-wise Operations\n",
        "import numpy as np\n",
        "a = np.array([1, 2, 3, 4])\n",
        "b = np.array([10, 20, 30, 40])\n",
        "print(a + b)\n",
        "print(a*b)\n",
        "print(a^b)"
      ],
      "metadata": {
        "colab": {
          "base_uri": "https://localhost:8080/"
        },
        "id": "f4n3e2_rjNMk",
        "outputId": "6b117ed6-737c-4a52-bd7b-2eb6b23008a6"
      },
      "id": "f4n3e2_rjNMk",
      "execution_count": null,
      "outputs": [
        {
          "output_type": "stream",
          "name": "stdout",
          "text": [
            "[11 22 33 44]\n",
            "[ 10  40  90 160]\n",
            "[11 22 29 44]\n"
          ]
        }
      ]
    },
    {
      "cell_type": "code",
      "source": [
        "#NumPy - Find Index of Maximum Value\n",
        "arr = np.array([10, 25, 39, 50, 19]).argmax()\n",
        "print(arr)\n"
      ],
      "metadata": {
        "colab": {
          "base_uri": "https://localhost:8080/"
        },
        "id": "oOHINmQ8ldIO",
        "outputId": "dc51aa69-e227-4953-a2a9-4bdd466882f0"
      },
      "id": "oOHINmQ8ldIO",
      "execution_count": null,
      "outputs": [
        {
          "output_type": "stream",
          "name": "stdout",
          "text": [
            "3\n"
          ]
        }
      ]
    },
    {
      "cell_type": "code",
      "source": [
        "list1=[10, 25, 39, 50, 19]\n",
        "list1.sort()\n",
        "print(list1[-2])\n"
      ],
      "metadata": {
        "colab": {
          "base_uri": "https://localhost:8080/"
        },
        "id": "n8Vf1vYNeC6r",
        "outputId": "5f1c9bcc-8d47-45c6-bb13-c0fdc17375f1"
      },
      "id": "n8Vf1vYNeC6r",
      "execution_count": null,
      "outputs": [
        {
          "output_type": "stream",
          "name": "stdout",
          "text": [
            "39\n"
          ]
        }
      ]
    }
  ],
  "metadata": {
    "kernelspec": {
      "display_name": "Python 3 (ipykernel)",
      "language": "python",
      "name": "python3"
    },
    "language_info": {
      "codemirror_mode": {
        "name": "ipython",
        "version": 3
      },
      "file_extension": ".py",
      "mimetype": "text/x-python",
      "name": "python",
      "nbconvert_exporter": "python",
      "pygments_lexer": "ipython3",
      "version": "3.11.5"
    },
    "colab": {
      "provenance": []
    }
  },
  "nbformat": 4,
  "nbformat_minor": 5
}