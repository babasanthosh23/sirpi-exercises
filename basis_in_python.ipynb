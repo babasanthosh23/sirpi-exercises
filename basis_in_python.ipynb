{
  "nbformat": 4,
  "nbformat_minor": 0,
  "metadata": {
    "colab": {
      "provenance": [],
      "authorship_tag": "ABX9TyN7hlXrSMnIkqPPS9QrYb6s",
      "include_colab_link": true
    },
    "kernelspec": {
      "name": "python3",
      "display_name": "Python 3"
    },
    "language_info": {
      "name": "python"
    }
  },
  "cells": [
    {
      "cell_type": "markdown",
      "metadata": {
        "id": "view-in-github",
        "colab_type": "text"
      },
      "source": [
        "<a href=\"https://colab.research.google.com/github/babasanthosh23/sirpi-exercises/blob/main/basis_in_python.ipynb\" target=\"_parent\"><img src=\"https://colab.research.google.com/assets/colab-badge.svg\" alt=\"Open In Colab\"/></a>"
      ]
    },
    {
      "cell_type": "code",
      "execution_count": null,
      "metadata": {
        "colab": {
          "base_uri": "https://localhost:8080/"
        },
        "id": "xPZimkqmNtgk",
        "outputId": "d2c9662b-f51c-4b3d-81bc-186110f302bc"
      },
      "outputs": [
        {
          "output_type": "stream",
          "name": "stdout",
          "text": [
            "a\n",
            "p\n",
            "p\n",
            "l\n",
            "e\n"
          ]
        }
      ],
      "source": [
        "for i in \"apple\":\n",
        "  print(i)"
      ]
    },
    {
      "cell_type": "code",
      "source": [
        "for i in range(7):\n",
        "  print(i)"
      ],
      "metadata": {
        "colab": {
          "base_uri": "https://localhost:8080/"
        },
        "id": "2cXOK8qtOTKV",
        "outputId": "a9a88883-f9f2-488c-e3a8-4153ae48d5b0"
      },
      "execution_count": null,
      "outputs": [
        {
          "output_type": "stream",
          "name": "stdout",
          "text": [
            "0\n",
            "1\n",
            "2\n",
            "3\n",
            "4\n",
            "5\n",
            "6\n"
          ]
        }
      ]
    },
    {
      "cell_type": "code",
      "source": [
        "for i in range(1,11):\n",
        "  print(i,\"X 8=\",i*8)\n"
      ],
      "metadata": {
        "colab": {
          "base_uri": "https://localhost:8080/"
        },
        "id": "M3PTfTT7OuJV",
        "outputId": "3efb4a46-ede3-424d-c1ac-05a0b4749ed1"
      },
      "execution_count": null,
      "outputs": [
        {
          "output_type": "stream",
          "name": "stdout",
          "text": [
            "1 X 8= 8\n",
            "2 X 8= 16\n",
            "3 X 8= 24\n",
            "4 X 8= 32\n",
            "5 X 8= 40\n",
            "6 X 8= 48\n",
            "7 X 8= 56\n",
            "8 X 8= 64\n",
            "9 X 8= 72\n",
            "10 X 8= 80\n"
          ]
        }
      ]
    },
    {
      "cell_type": "code",
      "source": [
        "for i in range(1,11):\n",
        "  print(i,\"X 10=\",i*10)\n"
      ],
      "metadata": {
        "colab": {
          "base_uri": "https://localhost:8080/"
        },
        "id": "BCY9uVmYRQr_",
        "outputId": "1a87f999-bfbe-4171-9ee2-7ef411f181e4"
      },
      "execution_count": null,
      "outputs": [
        {
          "output_type": "stream",
          "name": "stdout",
          "text": [
            "1 X 10= 10\n",
            "2 X 10= 20\n",
            "3 X 10= 30\n",
            "4 X 10= 40\n",
            "5 X 10= 50\n",
            "6 X 10= 60\n",
            "7 X 10= 70\n",
            "8 X 10= 80\n",
            "9 X 10= 90\n",
            "10 X 10= 100\n"
          ]
        }
      ]
    },
    {
      "cell_type": "code",
      "source": [
        "a=int(input(\"enter the first number:\"))\n",
        "b=int(input(\"enter the second number:\"))\n",
        "for i in range(a+1,b):\n",
        "  print(i)"
      ],
      "metadata": {
        "colab": {
          "base_uri": "https://localhost:8080/"
        },
        "id": "1bOp8tOCSO8d",
        "outputId": "a3a31ecb-90a6-4a56-9bc2-4d15c67d06f3"
      },
      "execution_count": null,
      "outputs": [
        {
          "output_type": "stream",
          "name": "stdout",
          "text": [
            "enter the first number:2\n",
            "enter the second number:12\n",
            "3\n",
            "4\n",
            "5\n",
            "6\n",
            "7\n",
            "8\n",
            "9\n",
            "10\n",
            "11\n"
          ]
        }
      ]
    },
    {
      "cell_type": "code",
      "source": [
        "for i in range(1,11):\n",
        "  if (i%2==0):\n",
        "    print(i)\n",
        " # else:\n",
        "  #  print(\"Odd\")\n"
      ],
      "metadata": {
        "colab": {
          "base_uri": "https://localhost:8080/"
        },
        "id": "CQxl0221Ta5Y",
        "outputId": "a0fa05fb-28a4-47fc-a421-4f3cf9695430"
      },
      "execution_count": null,
      "outputs": [
        {
          "output_type": "stream",
          "name": "stdout",
          "text": [
            "2\n",
            "4\n",
            "6\n",
            "8\n",
            "10\n"
          ]
        }
      ]
    },
    {
      "cell_type": "code",
      "source": [
        "# prompt: The provided code stub reads two integers from STDIN,  and . Add code to print three lines where:\n",
        "# The first line contains the sum of the two numbers.\n",
        "# The second line contains the difference of the two numbers (first - second).\n",
        "# The third line contains the product of the two numbers.\n",
        "# Example\n",
        "\n",
        "a = int(input())\n",
        "b = int(input())\n",
        "\n",
        "print(a + b)\n",
        "print(a - b)\n",
        "a * b\n"
      ],
      "metadata": {
        "id": "iKWE2Y36evr2"
      },
      "execution_count": null,
      "outputs": []
    }
  ]
}